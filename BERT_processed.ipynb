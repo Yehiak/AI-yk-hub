{
  "nbformat": 4,
  "nbformat_minor": 0,
  "metadata": {
    "colab": {
      "provenance": [],
      "collapsed_sections": [
        "yFazlllZWV8V"
      ]
    },
    "kernelspec": {
      "name": "python3",
      "display_name": "Python 3"
    },
    "language_info": {
      "name": "python"
    },
    "accelerator": "GPU",
    "gpuClass": "standard"
  },
  "cells": [
    {
      "cell_type": "markdown",
      "source": [
        "#installations & imports"
      ],
      "metadata": {
        "id": "yFazlllZWV8V"
      }
    },
    {
      "cell_type": "code",
      "source": [
        "!pip install tensorflow-text"
      ],
      "metadata": {
        "colab": {
          "base_uri": "https://localhost:8080/"
        },
        "id": "qIlqZyS43WNA",
        "outputId": "0f4a1021-422b-4bf5-b18a-20cf00d79978"
      },
      "execution_count": null,
      "outputs": [
        {
          "output_type": "stream",
          "name": "stdout",
          "text": [
            "Looking in indexes: https://pypi.org/simple, https://us-python.pkg.dev/colab-wheels/public/simple/\n",
            "Collecting tensorflow-text\n",
            "  Downloading tensorflow_text-2.11.0-cp38-cp38-manylinux_2_17_x86_64.manylinux2014_x86_64.whl (5.8 MB)\n",
            "\u001b[K     |████████████████████████████████| 5.8 MB 6.6 MB/s \n",
            "\u001b[?25hRequirement already satisfied: tensorflow-hub>=0.8.0 in /usr/local/lib/python3.8/dist-packages (from tensorflow-text) (0.12.0)\n",
            "Collecting tensorflow<2.12,>=2.11.0\n",
            "  Downloading tensorflow-2.11.0-cp38-cp38-manylinux_2_17_x86_64.manylinux2014_x86_64.whl (588.3 MB)\n",
            "\u001b[K     |████████████████████████████████| 588.3 MB 20 kB/s \n",
            "\u001b[?25hRequirement already satisfied: absl-py>=1.0.0 in /usr/local/lib/python3.8/dist-packages (from tensorflow<2.12,>=2.11.0->tensorflow-text) (1.3.0)\n",
            "Requirement already satisfied: astunparse>=1.6.0 in /usr/local/lib/python3.8/dist-packages (from tensorflow<2.12,>=2.11.0->tensorflow-text) (1.6.3)\n",
            "Requirement already satisfied: packaging in /usr/local/lib/python3.8/dist-packages (from tensorflow<2.12,>=2.11.0->tensorflow-text) (21.3)\n",
            "Collecting tensorboard<2.12,>=2.11\n",
            "  Downloading tensorboard-2.11.0-py3-none-any.whl (6.0 MB)\n",
            "\u001b[K     |████████████████████████████████| 6.0 MB 71.9 MB/s \n",
            "\u001b[?25hRequirement already satisfied: google-pasta>=0.1.1 in /usr/local/lib/python3.8/dist-packages (from tensorflow<2.12,>=2.11.0->tensorflow-text) (0.2.0)\n",
            "Requirement already satisfied: gast<=0.4.0,>=0.2.1 in /usr/local/lib/python3.8/dist-packages (from tensorflow<2.12,>=2.11.0->tensorflow-text) (0.4.0)\n",
            "Requirement already satisfied: setuptools in /usr/local/lib/python3.8/dist-packages (from tensorflow<2.12,>=2.11.0->tensorflow-text) (57.4.0)\n",
            "Requirement already satisfied: termcolor>=1.1.0 in /usr/local/lib/python3.8/dist-packages (from tensorflow<2.12,>=2.11.0->tensorflow-text) (2.1.1)\n",
            "Requirement already satisfied: six>=1.12.0 in /usr/local/lib/python3.8/dist-packages (from tensorflow<2.12,>=2.11.0->tensorflow-text) (1.15.0)\n",
            "Requirement already satisfied: typing-extensions>=3.6.6 in /usr/local/lib/python3.8/dist-packages (from tensorflow<2.12,>=2.11.0->tensorflow-text) (4.4.0)\n",
            "Requirement already satisfied: libclang>=13.0.0 in /usr/local/lib/python3.8/dist-packages (from tensorflow<2.12,>=2.11.0->tensorflow-text) (14.0.6)\n",
            "Requirement already satisfied: grpcio<2.0,>=1.24.3 in /usr/local/lib/python3.8/dist-packages (from tensorflow<2.12,>=2.11.0->tensorflow-text) (1.51.1)\n",
            "Requirement already satisfied: opt-einsum>=2.3.2 in /usr/local/lib/python3.8/dist-packages (from tensorflow<2.12,>=2.11.0->tensorflow-text) (3.3.0)\n",
            "Requirement already satisfied: protobuf<3.20,>=3.9.2 in /usr/local/lib/python3.8/dist-packages (from tensorflow<2.12,>=2.11.0->tensorflow-text) (3.19.6)\n",
            "Requirement already satisfied: wrapt>=1.11.0 in /usr/local/lib/python3.8/dist-packages (from tensorflow<2.12,>=2.11.0->tensorflow-text) (1.14.1)\n",
            "Requirement already satisfied: h5py>=2.9.0 in /usr/local/lib/python3.8/dist-packages (from tensorflow<2.12,>=2.11.0->tensorflow-text) (3.1.0)\n",
            "Collecting flatbuffers>=2.0\n",
            "  Downloading flatbuffers-22.12.6-py2.py3-none-any.whl (26 kB)\n",
            "Collecting keras<2.12,>=2.11.0\n",
            "  Downloading keras-2.11.0-py2.py3-none-any.whl (1.7 MB)\n",
            "\u001b[K     |████████████████████████████████| 1.7 MB 65.4 MB/s \n",
            "\u001b[?25hRequirement already satisfied: tensorflow-io-gcs-filesystem>=0.23.1 in /usr/local/lib/python3.8/dist-packages (from tensorflow<2.12,>=2.11.0->tensorflow-text) (0.28.0)\n",
            "Collecting tensorflow-estimator<2.12,>=2.11.0\n",
            "  Downloading tensorflow_estimator-2.11.0-py2.py3-none-any.whl (439 kB)\n",
            "\u001b[K     |████████████████████████████████| 439 kB 74.1 MB/s \n",
            "\u001b[?25hRequirement already satisfied: numpy>=1.20 in /usr/local/lib/python3.8/dist-packages (from tensorflow<2.12,>=2.11.0->tensorflow-text) (1.21.6)\n",
            "Requirement already satisfied: wheel<1.0,>=0.23.0 in /usr/local/lib/python3.8/dist-packages (from astunparse>=1.6.0->tensorflow<2.12,>=2.11.0->tensorflow-text) (0.38.4)\n",
            "Requirement already satisfied: markdown>=2.6.8 in /usr/local/lib/python3.8/dist-packages (from tensorboard<2.12,>=2.11->tensorflow<2.12,>=2.11.0->tensorflow-text) (3.4.1)\n",
            "Requirement already satisfied: tensorboard-data-server<0.7.0,>=0.6.0 in /usr/local/lib/python3.8/dist-packages (from tensorboard<2.12,>=2.11->tensorflow<2.12,>=2.11.0->tensorflow-text) (0.6.1)\n",
            "Requirement already satisfied: google-auth-oauthlib<0.5,>=0.4.1 in /usr/local/lib/python3.8/dist-packages (from tensorboard<2.12,>=2.11->tensorflow<2.12,>=2.11.0->tensorflow-text) (0.4.6)\n",
            "Requirement already satisfied: tensorboard-plugin-wit>=1.6.0 in /usr/local/lib/python3.8/dist-packages (from tensorboard<2.12,>=2.11->tensorflow<2.12,>=2.11.0->tensorflow-text) (1.8.1)\n",
            "Requirement already satisfied: werkzeug>=1.0.1 in /usr/local/lib/python3.8/dist-packages (from tensorboard<2.12,>=2.11->tensorflow<2.12,>=2.11.0->tensorflow-text) (1.0.1)\n",
            "Requirement already satisfied: requests<3,>=2.21.0 in /usr/local/lib/python3.8/dist-packages (from tensorboard<2.12,>=2.11->tensorflow<2.12,>=2.11.0->tensorflow-text) (2.23.0)\n",
            "Requirement already satisfied: google-auth<3,>=1.6.3 in /usr/local/lib/python3.8/dist-packages (from tensorboard<2.12,>=2.11->tensorflow<2.12,>=2.11.0->tensorflow-text) (2.15.0)\n",
            "Requirement already satisfied: pyasn1-modules>=0.2.1 in /usr/local/lib/python3.8/dist-packages (from google-auth<3,>=1.6.3->tensorboard<2.12,>=2.11->tensorflow<2.12,>=2.11.0->tensorflow-text) (0.2.8)\n",
            "Requirement already satisfied: cachetools<6.0,>=2.0.0 in /usr/local/lib/python3.8/dist-packages (from google-auth<3,>=1.6.3->tensorboard<2.12,>=2.11->tensorflow<2.12,>=2.11.0->tensorflow-text) (5.2.0)\n",
            "Requirement already satisfied: rsa<5,>=3.1.4 in /usr/local/lib/python3.8/dist-packages (from google-auth<3,>=1.6.3->tensorboard<2.12,>=2.11->tensorflow<2.12,>=2.11.0->tensorflow-text) (4.9)\n",
            "Requirement already satisfied: requests-oauthlib>=0.7.0 in /usr/local/lib/python3.8/dist-packages (from google-auth-oauthlib<0.5,>=0.4.1->tensorboard<2.12,>=2.11->tensorflow<2.12,>=2.11.0->tensorflow-text) (1.3.1)\n",
            "Requirement already satisfied: importlib-metadata>=4.4 in /usr/local/lib/python3.8/dist-packages (from markdown>=2.6.8->tensorboard<2.12,>=2.11->tensorflow<2.12,>=2.11.0->tensorflow-text) (5.1.0)\n",
            "Requirement already satisfied: zipp>=0.5 in /usr/local/lib/python3.8/dist-packages (from importlib-metadata>=4.4->markdown>=2.6.8->tensorboard<2.12,>=2.11->tensorflow<2.12,>=2.11.0->tensorflow-text) (3.11.0)\n",
            "Requirement already satisfied: pyasn1<0.5.0,>=0.4.6 in /usr/local/lib/python3.8/dist-packages (from pyasn1-modules>=0.2.1->google-auth<3,>=1.6.3->tensorboard<2.12,>=2.11->tensorflow<2.12,>=2.11.0->tensorflow-text) (0.4.8)\n",
            "Requirement already satisfied: certifi>=2017.4.17 in /usr/local/lib/python3.8/dist-packages (from requests<3,>=2.21.0->tensorboard<2.12,>=2.11->tensorflow<2.12,>=2.11.0->tensorflow-text) (2022.12.7)\n",
            "Requirement already satisfied: chardet<4,>=3.0.2 in /usr/local/lib/python3.8/dist-packages (from requests<3,>=2.21.0->tensorboard<2.12,>=2.11->tensorflow<2.12,>=2.11.0->tensorflow-text) (3.0.4)\n",
            "Requirement already satisfied: idna<3,>=2.5 in /usr/local/lib/python3.8/dist-packages (from requests<3,>=2.21.0->tensorboard<2.12,>=2.11->tensorflow<2.12,>=2.11.0->tensorflow-text) (2.10)\n",
            "Requirement already satisfied: urllib3!=1.25.0,!=1.25.1,<1.26,>=1.21.1 in /usr/local/lib/python3.8/dist-packages (from requests<3,>=2.21.0->tensorboard<2.12,>=2.11->tensorflow<2.12,>=2.11.0->tensorflow-text) (1.24.3)\n",
            "Requirement already satisfied: oauthlib>=3.0.0 in /usr/local/lib/python3.8/dist-packages (from requests-oauthlib>=0.7.0->google-auth-oauthlib<0.5,>=0.4.1->tensorboard<2.12,>=2.11->tensorflow<2.12,>=2.11.0->tensorflow-text) (3.2.2)\n",
            "Requirement already satisfied: pyparsing!=3.0.5,>=2.0.2 in /usr/local/lib/python3.8/dist-packages (from packaging->tensorflow<2.12,>=2.11.0->tensorflow-text) (3.0.9)\n",
            "Installing collected packages: tensorflow-estimator, tensorboard, keras, flatbuffers, tensorflow, tensorflow-text\n",
            "  Attempting uninstall: tensorflow-estimator\n",
            "    Found existing installation: tensorflow-estimator 2.9.0\n",
            "    Uninstalling tensorflow-estimator-2.9.0:\n",
            "      Successfully uninstalled tensorflow-estimator-2.9.0\n",
            "  Attempting uninstall: tensorboard\n",
            "    Found existing installation: tensorboard 2.9.1\n",
            "    Uninstalling tensorboard-2.9.1:\n",
            "      Successfully uninstalled tensorboard-2.9.1\n",
            "  Attempting uninstall: keras\n",
            "    Found existing installation: keras 2.9.0\n",
            "    Uninstalling keras-2.9.0:\n",
            "      Successfully uninstalled keras-2.9.0\n",
            "  Attempting uninstall: flatbuffers\n",
            "    Found existing installation: flatbuffers 1.12\n",
            "    Uninstalling flatbuffers-1.12:\n",
            "      Successfully uninstalled flatbuffers-1.12\n",
            "  Attempting uninstall: tensorflow\n",
            "    Found existing installation: tensorflow 2.9.2\n",
            "    Uninstalling tensorflow-2.9.2:\n",
            "      Successfully uninstalled tensorflow-2.9.2\n",
            "Successfully installed flatbuffers-22.12.6 keras-2.11.0 tensorboard-2.11.0 tensorflow-2.11.0 tensorflow-estimator-2.11.0 tensorflow-text-2.11.0\n"
          ]
        }
      ]
    },
    {
      "cell_type": "code",
      "source": [
        "!pip install transformers"
      ],
      "metadata": {
        "colab": {
          "base_uri": "https://localhost:8080/"
        },
        "id": "oGfwXLVDFtlc",
        "outputId": "9d04ddbe-4156-4d34-95e8-a269d291ed58"
      },
      "execution_count": null,
      "outputs": [
        {
          "output_type": "stream",
          "name": "stdout",
          "text": [
            "Looking in indexes: https://pypi.org/simple, https://us-python.pkg.dev/colab-wheels/public/simple/\n",
            "Collecting transformers\n",
            "  Downloading transformers-4.25.1-py3-none-any.whl (5.8 MB)\n",
            "\u001b[K     |████████████████████████████████| 5.8 MB 8.3 MB/s \n",
            "\u001b[?25hRequirement already satisfied: filelock in /usr/local/lib/python3.8/dist-packages (from transformers) (3.8.2)\n",
            "Requirement already satisfied: packaging>=20.0 in /usr/local/lib/python3.8/dist-packages (from transformers) (21.3)\n",
            "Collecting tokenizers!=0.11.3,<0.14,>=0.11.1\n",
            "  Downloading tokenizers-0.13.2-cp38-cp38-manylinux_2_17_x86_64.manylinux2014_x86_64.whl (7.6 MB)\n",
            "\u001b[K     |████████████████████████████████| 7.6 MB 66.2 MB/s \n",
            "\u001b[?25hRequirement already satisfied: requests in /usr/local/lib/python3.8/dist-packages (from transformers) (2.23.0)\n",
            "Collecting huggingface-hub<1.0,>=0.10.0\n",
            "  Downloading huggingface_hub-0.11.1-py3-none-any.whl (182 kB)\n",
            "\u001b[K     |████████████████████████████████| 182 kB 81.6 MB/s \n",
            "\u001b[?25hRequirement already satisfied: tqdm>=4.27 in /usr/local/lib/python3.8/dist-packages (from transformers) (4.64.1)\n",
            "Requirement already satisfied: numpy>=1.17 in /usr/local/lib/python3.8/dist-packages (from transformers) (1.21.6)\n",
            "Requirement already satisfied: pyyaml>=5.1 in /usr/local/lib/python3.8/dist-packages (from transformers) (6.0)\n",
            "Requirement already satisfied: regex!=2019.12.17 in /usr/local/lib/python3.8/dist-packages (from transformers) (2022.6.2)\n",
            "Requirement already satisfied: typing-extensions>=3.7.4.3 in /usr/local/lib/python3.8/dist-packages (from huggingface-hub<1.0,>=0.10.0->transformers) (4.4.0)\n",
            "Requirement already satisfied: pyparsing!=3.0.5,>=2.0.2 in /usr/local/lib/python3.8/dist-packages (from packaging>=20.0->transformers) (3.0.9)\n",
            "Requirement already satisfied: idna<3,>=2.5 in /usr/local/lib/python3.8/dist-packages (from requests->transformers) (2.10)\n",
            "Requirement already satisfied: chardet<4,>=3.0.2 in /usr/local/lib/python3.8/dist-packages (from requests->transformers) (3.0.4)\n",
            "Requirement already satisfied: certifi>=2017.4.17 in /usr/local/lib/python3.8/dist-packages (from requests->transformers) (2022.12.7)\n",
            "Requirement already satisfied: urllib3!=1.25.0,!=1.25.1,<1.26,>=1.21.1 in /usr/local/lib/python3.8/dist-packages (from requests->transformers) (1.24.3)\n",
            "Installing collected packages: tokenizers, huggingface-hub, transformers\n",
            "Successfully installed huggingface-hub-0.11.1 tokenizers-0.13.2 transformers-4.25.1\n"
          ]
        }
      ]
    },
    {
      "cell_type": "code",
      "execution_count": null,
      "metadata": {
        "id": "pDphb7o5P_TI"
      },
      "outputs": [],
      "source": [
        "from google.colab import drive"
      ]
    },
    {
      "cell_type": "code",
      "source": [
        "from google.colab import drive\n",
        "drive.mount('/content/drive')"
      ],
      "metadata": {
        "colab": {
          "base_uri": "https://localhost:8080/"
        },
        "id": "WFM2YLjpQTDT",
        "outputId": "1d5d700e-67c5-4249-ccb3-93bfec813174"
      },
      "execution_count": null,
      "outputs": [
        {
          "output_type": "stream",
          "name": "stdout",
          "text": [
            "Drive already mounted at /content/drive; to attempt to forcibly remount, call drive.mount(\"/content/drive\", force_remount=True).\n"
          ]
        }
      ]
    },
    {
      "cell_type": "code",
      "source": [
        "import numpy as np\n",
        "import pandas as pd\n",
        "\n",
        "import tensorflow as tf\n",
        "import tensorflow_hub as hub\n",
        "import tensorflow_text as text\n",
        "from tensorflow import keras"
      ],
      "metadata": {
        "id": "Akm3e7TPQU7a"
      },
      "execution_count": null,
      "outputs": []
    },
    {
      "cell_type": "markdown",
      "source": [
        "#loading processed Data"
      ],
      "metadata": {
        "id": "fdBTyltS7p07"
      }
    },
    {
      "cell_type": "code",
      "source": [
        "df = pd.read_csv('/content/drive/MyDrive/Deep Learning  /ass2/processed_data/processed_data.csv')\n",
        "df.head()"
      ],
      "metadata": {
        "colab": {
          "base_uri": "https://localhost:8080/",
          "height": 206
        },
        "id": "fgaYY8vOzHnZ",
        "outputId": "d8e8ba23-815f-49cb-c2e1-42c02b5284b9"
      },
      "execution_count": null,
      "outputs": [
        {
          "output_type": "execute_result",
          "data": {
            "text/plain": [
              "                                              review sentiment\n",
              "0  one reviewer mentioned watching 1 oz episode y...  positive\n",
              "1  wonderful little production br br filming tech...  positive\n",
              "2  thought wonderful way spend time hot summer we...  positive\n",
              "3  basically there family little boy jake think t...  negative\n",
              "4  petter matteis love time money visually stunni...  positive"
            ],
            "text/html": [
              "\n",
              "  <div id=\"df-8a7e9f6d-930a-44c1-b70c-4985faf9c283\">\n",
              "    <div class=\"colab-df-container\">\n",
              "      <div>\n",
              "<style scoped>\n",
              "    .dataframe tbody tr th:only-of-type {\n",
              "        vertical-align: middle;\n",
              "    }\n",
              "\n",
              "    .dataframe tbody tr th {\n",
              "        vertical-align: top;\n",
              "    }\n",
              "\n",
              "    .dataframe thead th {\n",
              "        text-align: right;\n",
              "    }\n",
              "</style>\n",
              "<table border=\"1\" class=\"dataframe\">\n",
              "  <thead>\n",
              "    <tr style=\"text-align: right;\">\n",
              "      <th></th>\n",
              "      <th>review</th>\n",
              "      <th>sentiment</th>\n",
              "    </tr>\n",
              "  </thead>\n",
              "  <tbody>\n",
              "    <tr>\n",
              "      <th>0</th>\n",
              "      <td>one reviewer mentioned watching 1 oz episode y...</td>\n",
              "      <td>positive</td>\n",
              "    </tr>\n",
              "    <tr>\n",
              "      <th>1</th>\n",
              "      <td>wonderful little production br br filming tech...</td>\n",
              "      <td>positive</td>\n",
              "    </tr>\n",
              "    <tr>\n",
              "      <th>2</th>\n",
              "      <td>thought wonderful way spend time hot summer we...</td>\n",
              "      <td>positive</td>\n",
              "    </tr>\n",
              "    <tr>\n",
              "      <th>3</th>\n",
              "      <td>basically there family little boy jake think t...</td>\n",
              "      <td>negative</td>\n",
              "    </tr>\n",
              "    <tr>\n",
              "      <th>4</th>\n",
              "      <td>petter matteis love time money visually stunni...</td>\n",
              "      <td>positive</td>\n",
              "    </tr>\n",
              "  </tbody>\n",
              "</table>\n",
              "</div>\n",
              "      <button class=\"colab-df-convert\" onclick=\"convertToInteractive('df-8a7e9f6d-930a-44c1-b70c-4985faf9c283')\"\n",
              "              title=\"Convert this dataframe to an interactive table.\"\n",
              "              style=\"display:none;\">\n",
              "        \n",
              "  <svg xmlns=\"http://www.w3.org/2000/svg\" height=\"24px\"viewBox=\"0 0 24 24\"\n",
              "       width=\"24px\">\n",
              "    <path d=\"M0 0h24v24H0V0z\" fill=\"none\"/>\n",
              "    <path d=\"M18.56 5.44l.94 2.06.94-2.06 2.06-.94-2.06-.94-.94-2.06-.94 2.06-2.06.94zm-11 1L8.5 8.5l.94-2.06 2.06-.94-2.06-.94L8.5 2.5l-.94 2.06-2.06.94zm10 10l.94 2.06.94-2.06 2.06-.94-2.06-.94-.94-2.06-.94 2.06-2.06.94z\"/><path d=\"M17.41 7.96l-1.37-1.37c-.4-.4-.92-.59-1.43-.59-.52 0-1.04.2-1.43.59L10.3 9.45l-7.72 7.72c-.78.78-.78 2.05 0 2.83L4 21.41c.39.39.9.59 1.41.59.51 0 1.02-.2 1.41-.59l7.78-7.78 2.81-2.81c.8-.78.8-2.07 0-2.86zM5.41 20L4 18.59l7.72-7.72 1.47 1.35L5.41 20z\"/>\n",
              "  </svg>\n",
              "      </button>\n",
              "      \n",
              "  <style>\n",
              "    .colab-df-container {\n",
              "      display:flex;\n",
              "      flex-wrap:wrap;\n",
              "      gap: 12px;\n",
              "    }\n",
              "\n",
              "    .colab-df-convert {\n",
              "      background-color: #E8F0FE;\n",
              "      border: none;\n",
              "      border-radius: 50%;\n",
              "      cursor: pointer;\n",
              "      display: none;\n",
              "      fill: #1967D2;\n",
              "      height: 32px;\n",
              "      padding: 0 0 0 0;\n",
              "      width: 32px;\n",
              "    }\n",
              "\n",
              "    .colab-df-convert:hover {\n",
              "      background-color: #E2EBFA;\n",
              "      box-shadow: 0px 1px 2px rgba(60, 64, 67, 0.3), 0px 1px 3px 1px rgba(60, 64, 67, 0.15);\n",
              "      fill: #174EA6;\n",
              "    }\n",
              "\n",
              "    [theme=dark] .colab-df-convert {\n",
              "      background-color: #3B4455;\n",
              "      fill: #D2E3FC;\n",
              "    }\n",
              "\n",
              "    [theme=dark] .colab-df-convert:hover {\n",
              "      background-color: #434B5C;\n",
              "      box-shadow: 0px 1px 3px 1px rgba(0, 0, 0, 0.15);\n",
              "      filter: drop-shadow(0px 1px 2px rgba(0, 0, 0, 0.3));\n",
              "      fill: #FFFFFF;\n",
              "    }\n",
              "  </style>\n",
              "\n",
              "      <script>\n",
              "        const buttonEl =\n",
              "          document.querySelector('#df-8a7e9f6d-930a-44c1-b70c-4985faf9c283 button.colab-df-convert');\n",
              "        buttonEl.style.display =\n",
              "          google.colab.kernel.accessAllowed ? 'block' : 'none';\n",
              "\n",
              "        async function convertToInteractive(key) {\n",
              "          const element = document.querySelector('#df-8a7e9f6d-930a-44c1-b70c-4985faf9c283');\n",
              "          const dataTable =\n",
              "            await google.colab.kernel.invokeFunction('convertToInteractive',\n",
              "                                                     [key], {});\n",
              "          if (!dataTable) return;\n",
              "\n",
              "          const docLinkHtml = 'Like what you see? Visit the ' +\n",
              "            '<a target=\"_blank\" href=https://colab.research.google.com/notebooks/data_table.ipynb>data table notebook</a>'\n",
              "            + ' to learn more about interactive tables.';\n",
              "          element.innerHTML = '';\n",
              "          dataTable['output_type'] = 'display_data';\n",
              "          await google.colab.output.renderOutput(dataTable, element);\n",
              "          const docLink = document.createElement('div');\n",
              "          docLink.innerHTML = docLinkHtml;\n",
              "          element.appendChild(docLink);\n",
              "        }\n",
              "      </script>\n",
              "    </div>\n",
              "  </div>\n",
              "  "
            ]
          },
          "metadata": {},
          "execution_count": 6
        }
      ]
    },
    {
      "cell_type": "code",
      "source": [
        "Y = df['sentiment']\n",
        "Y = np.array(list(map(lambda x: 1 if x==\"positive\" else 0, Y)))\n",
        "print(Y[:5])\n",
        "df['sentiment'] = Y"
      ],
      "metadata": {
        "colab": {
          "base_uri": "https://localhost:8080/"
        },
        "id": "tsSscobOXCoO",
        "outputId": "70165432-5e35-4d1d-b7f2-17e7b88ea000"
      },
      "execution_count": null,
      "outputs": [
        {
          "output_type": "stream",
          "name": "stdout",
          "text": [
            "[1 1 1 0 1]\n"
          ]
        }
      ]
    },
    {
      "cell_type": "code",
      "source": [
        "reviews = df['review']\n",
        "print(reviews[1])"
      ],
      "metadata": {
        "colab": {
          "base_uri": "https://localhost:8080/"
        },
        "id": "TruTcqp7Xaf8",
        "outputId": "03426e32-b354-403b-8115-26fc0dbf6c0a"
      },
      "execution_count": null,
      "outputs": [
        {
          "output_type": "stream",
          "name": "stdout",
          "text": [
            "wonderful little production br br filming technique unassuming oldtimebbc fashion give comforting sometimes discomforting sense realism entire piece br br actor extremely well chosen michael sheen got polari voice pat truly see seamless editing guided reference williams diary entry well worth watching terrificly written performed piece masterful production one great master comedy life br br realism really come home little thing fantasy guard rather use traditional dream technique remains solid disappears play knowledge sens particularly scene concerning orton halliwell set particularly flat halliwells mural decorating every surface terribly well done\n"
          ]
        }
      ]
    },
    {
      "cell_type": "code",
      "source": [
        "df.head()"
      ],
      "metadata": {
        "colab": {
          "base_uri": "https://localhost:8080/",
          "height": 206
        },
        "id": "VivgvoXhYCId",
        "outputId": "fe27f1ea-2d54-429f-b7ac-99e46ff461ca"
      },
      "execution_count": null,
      "outputs": [
        {
          "output_type": "execute_result",
          "data": {
            "text/plain": [
              "                                              review  sentiment\n",
              "0  one reviewer mentioned watching 1 oz episode y...          1\n",
              "1  wonderful little production br br filming tech...          1\n",
              "2  thought wonderful way spend time hot summer we...          1\n",
              "3  basically there family little boy jake think t...          0\n",
              "4  petter matteis love time money visually stunni...          1"
            ],
            "text/html": [
              "\n",
              "  <div id=\"df-4b07c4a1-d494-4678-b289-f7ef8cf53532\">\n",
              "    <div class=\"colab-df-container\">\n",
              "      <div>\n",
              "<style scoped>\n",
              "    .dataframe tbody tr th:only-of-type {\n",
              "        vertical-align: middle;\n",
              "    }\n",
              "\n",
              "    .dataframe tbody tr th {\n",
              "        vertical-align: top;\n",
              "    }\n",
              "\n",
              "    .dataframe thead th {\n",
              "        text-align: right;\n",
              "    }\n",
              "</style>\n",
              "<table border=\"1\" class=\"dataframe\">\n",
              "  <thead>\n",
              "    <tr style=\"text-align: right;\">\n",
              "      <th></th>\n",
              "      <th>review</th>\n",
              "      <th>sentiment</th>\n",
              "    </tr>\n",
              "  </thead>\n",
              "  <tbody>\n",
              "    <tr>\n",
              "      <th>0</th>\n",
              "      <td>one reviewer mentioned watching 1 oz episode y...</td>\n",
              "      <td>1</td>\n",
              "    </tr>\n",
              "    <tr>\n",
              "      <th>1</th>\n",
              "      <td>wonderful little production br br filming tech...</td>\n",
              "      <td>1</td>\n",
              "    </tr>\n",
              "    <tr>\n",
              "      <th>2</th>\n",
              "      <td>thought wonderful way spend time hot summer we...</td>\n",
              "      <td>1</td>\n",
              "    </tr>\n",
              "    <tr>\n",
              "      <th>3</th>\n",
              "      <td>basically there family little boy jake think t...</td>\n",
              "      <td>0</td>\n",
              "    </tr>\n",
              "    <tr>\n",
              "      <th>4</th>\n",
              "      <td>petter matteis love time money visually stunni...</td>\n",
              "      <td>1</td>\n",
              "    </tr>\n",
              "  </tbody>\n",
              "</table>\n",
              "</div>\n",
              "      <button class=\"colab-df-convert\" onclick=\"convertToInteractive('df-4b07c4a1-d494-4678-b289-f7ef8cf53532')\"\n",
              "              title=\"Convert this dataframe to an interactive table.\"\n",
              "              style=\"display:none;\">\n",
              "        \n",
              "  <svg xmlns=\"http://www.w3.org/2000/svg\" height=\"24px\"viewBox=\"0 0 24 24\"\n",
              "       width=\"24px\">\n",
              "    <path d=\"M0 0h24v24H0V0z\" fill=\"none\"/>\n",
              "    <path d=\"M18.56 5.44l.94 2.06.94-2.06 2.06-.94-2.06-.94-.94-2.06-.94 2.06-2.06.94zm-11 1L8.5 8.5l.94-2.06 2.06-.94-2.06-.94L8.5 2.5l-.94 2.06-2.06.94zm10 10l.94 2.06.94-2.06 2.06-.94-2.06-.94-.94-2.06-.94 2.06-2.06.94z\"/><path d=\"M17.41 7.96l-1.37-1.37c-.4-.4-.92-.59-1.43-.59-.52 0-1.04.2-1.43.59L10.3 9.45l-7.72 7.72c-.78.78-.78 2.05 0 2.83L4 21.41c.39.39.9.59 1.41.59.51 0 1.02-.2 1.41-.59l7.78-7.78 2.81-2.81c.8-.78.8-2.07 0-2.86zM5.41 20L4 18.59l7.72-7.72 1.47 1.35L5.41 20z\"/>\n",
              "  </svg>\n",
              "      </button>\n",
              "      \n",
              "  <style>\n",
              "    .colab-df-container {\n",
              "      display:flex;\n",
              "      flex-wrap:wrap;\n",
              "      gap: 12px;\n",
              "    }\n",
              "\n",
              "    .colab-df-convert {\n",
              "      background-color: #E8F0FE;\n",
              "      border: none;\n",
              "      border-radius: 50%;\n",
              "      cursor: pointer;\n",
              "      display: none;\n",
              "      fill: #1967D2;\n",
              "      height: 32px;\n",
              "      padding: 0 0 0 0;\n",
              "      width: 32px;\n",
              "    }\n",
              "\n",
              "    .colab-df-convert:hover {\n",
              "      background-color: #E2EBFA;\n",
              "      box-shadow: 0px 1px 2px rgba(60, 64, 67, 0.3), 0px 1px 3px 1px rgba(60, 64, 67, 0.15);\n",
              "      fill: #174EA6;\n",
              "    }\n",
              "\n",
              "    [theme=dark] .colab-df-convert {\n",
              "      background-color: #3B4455;\n",
              "      fill: #D2E3FC;\n",
              "    }\n",
              "\n",
              "    [theme=dark] .colab-df-convert:hover {\n",
              "      background-color: #434B5C;\n",
              "      box-shadow: 0px 1px 3px 1px rgba(0, 0, 0, 0.15);\n",
              "      filter: drop-shadow(0px 1px 2px rgba(0, 0, 0, 0.3));\n",
              "      fill: #FFFFFF;\n",
              "    }\n",
              "  </style>\n",
              "\n",
              "      <script>\n",
              "        const buttonEl =\n",
              "          document.querySelector('#df-4b07c4a1-d494-4678-b289-f7ef8cf53532 button.colab-df-convert');\n",
              "        buttonEl.style.display =\n",
              "          google.colab.kernel.accessAllowed ? 'block' : 'none';\n",
              "\n",
              "        async function convertToInteractive(key) {\n",
              "          const element = document.querySelector('#df-4b07c4a1-d494-4678-b289-f7ef8cf53532');\n",
              "          const dataTable =\n",
              "            await google.colab.kernel.invokeFunction('convertToInteractive',\n",
              "                                                     [key], {});\n",
              "          if (!dataTable) return;\n",
              "\n",
              "          const docLinkHtml = 'Like what you see? Visit the ' +\n",
              "            '<a target=\"_blank\" href=https://colab.research.google.com/notebooks/data_table.ipynb>data table notebook</a>'\n",
              "            + ' to learn more about interactive tables.';\n",
              "          element.innerHTML = '';\n",
              "          dataTable['output_type'] = 'display_data';\n",
              "          await google.colab.output.renderOutput(dataTable, element);\n",
              "          const docLink = document.createElement('div');\n",
              "          docLink.innerHTML = docLinkHtml;\n",
              "          element.appendChild(docLink);\n",
              "        }\n",
              "      </script>\n",
              "    </div>\n",
              "  </div>\n",
              "  "
            ]
          },
          "metadata": {},
          "execution_count": 9
        }
      ]
    },
    {
      "cell_type": "code",
      "source": [
        "np.random.seed(112)\n",
        "df_train, df_val, df_test = np.split(df.sample(frac=1, random_state=42),\n",
        "                                     [int(.7*len(df)), int(.8*len(df))])\n",
        "print(len(df_train),len(df_val), len(df_test))"
      ],
      "metadata": {
        "colab": {
          "base_uri": "https://localhost:8080/"
        },
        "id": "brJ94ceGBZcw",
        "outputId": "eeeb69ef-7fd6-4bee-d64f-6385a4632b56"
      },
      "execution_count": null,
      "outputs": [
        {
          "output_type": "stream",
          "name": "stdout",
          "text": [
            "35000 5000 10000\n"
          ]
        }
      ]
    },
    {
      "cell_type": "markdown",
      "source": [
        "#BERT MODEL history 2"
      ],
      "metadata": {
        "id": "VH3XNVIrNOMe"
      }
    },
    {
      "cell_type": "code",
      "source": [
        "bert_preprocess = hub.KerasLayer(\"https://tfhub.dev/tensorflow/bert_en_uncased_preprocess/3\")\n",
        "bert_encoder = hub.KerasLayer(\"https://tfhub.dev/tensorflow/bert_en_uncased_L-12_H-768_A-12/4\")"
      ],
      "metadata": {
        "colab": {
          "base_uri": "https://localhost:8080/"
        },
        "id": "yREakM_1TYvg",
        "outputId": "12ec33b0-7f2e-4a57-9ae5-0ec3565aed2c"
      },
      "execution_count": null,
      "outputs": [
        {
          "output_type": "stream",
          "name": "stderr",
          "text": [
            "WARNING:tensorflow:Please fix your imports. Module tensorflow.python.training.tracking.data_structures has been moved to tensorflow.python.trackable.data_structures. The old module will be deleted in version 2.11.\n"
          ]
        }
      ]
    },
    {
      "cell_type": "code",
      "source": [
        "def get_sentence_embeding(sentences):\n",
        "    preprocessed_text = bert_preprocess(sentences)\n",
        "    return bert_encoder(preprocessed_text)['pooled_output']"
      ],
      "metadata": {
        "id": "M17nBR5OUWoF"
      },
      "execution_count": null,
      "outputs": []
    },
    {
      "cell_type": "code",
      "source": [
        "# Bert layers\n",
        "text_input = tf.keras.layers.Input(shape=(), dtype=tf.string, name='text')\n",
        "preprocessed_text = bert_preprocess(text_input)\n",
        "outputs = bert_encoder(preprocessed_text)\n",
        "\n",
        "# Neural network layers\n",
        "l = tf.keras.layers.Dropout(0.1, name=\"dropout\")(outputs['pooled_output'])\n",
        "l = tf.keras.layers.Dense(512, name=\"dense1\")(l)\n",
        "l = tf.keras.layers.Dense(256, name=\"dense2\")(l)\n",
        "l = tf.keras.layers.Dense(128, name=\"dense3\")(l)\n",
        "l = tf.keras.layers.Dense(64, name=\"dense4\")(l)\n",
        "l = tf.keras.layers.Dense(1, activation='sigmoid', name=\"output\")(l)\n",
        "\n",
        "# Use inputs and outputs to construct a final model\n",
        "model1 = tf.keras.Model(inputs=[text_input], outputs = [l])"
      ],
      "metadata": {
        "colab": {
          "base_uri": "https://localhost:8080/"
        },
        "id": "pdaRRyZVUkqW",
        "outputId": "06611126-f13e-4c8c-8e49-2c71240f23b8"
      },
      "execution_count": null,
      "outputs": [
        {
          "output_type": "stream",
          "name": "stderr",
          "text": [
            "WARNING:tensorflow:From /usr/local/lib/python3.8/dist-packages/tensorflow/python/autograph/pyct/static_analysis/liveness.py:83: Analyzer.lamba_check (from tensorflow.python.autograph.pyct.static_analysis.liveness) is deprecated and will be removed after 2023-09-23.\n",
            "Instructions for updating:\n",
            "Lambda fuctions will be no more assumed to be used in the statement where they are used, or at least in the same block. https://github.com/tensorflow/tensorflow/issues/56089\n"
          ]
        }
      ]
    },
    {
      "cell_type": "code",
      "source": [
        "model1.summary()"
      ],
      "metadata": {
        "colab": {
          "base_uri": "https://localhost:8080/"
        },
        "id": "8glQbg5NVcac",
        "outputId": "dbb7c283-e662-48ad-ab21-d3ac8a3bcaf1"
      },
      "execution_count": null,
      "outputs": [
        {
          "output_type": "stream",
          "name": "stdout",
          "text": [
            "Model: \"model\"\n",
            "__________________________________________________________________________________________________\n",
            " Layer (type)                   Output Shape         Param #     Connected to                     \n",
            "==================================================================================================\n",
            " text (InputLayer)              [(None,)]            0           []                               \n",
            "                                                                                                  \n",
            " keras_layer (KerasLayer)       {'input_mask': (Non  0           ['text[0][0]']                   \n",
            "                                e, 128),                                                          \n",
            "                                 'input_word_ids':                                                \n",
            "                                (None, 128),                                                      \n",
            "                                 'input_type_ids':                                                \n",
            "                                (None, 128)}                                                      \n",
            "                                                                                                  \n",
            " keras_layer_1 (KerasLayer)     {'encoder_outputs':  109482241   ['keras_layer[0][0]',            \n",
            "                                 [(None, 128, 768),               'keras_layer[0][1]',            \n",
            "                                 (None, 128, 768),                'keras_layer[0][2]']            \n",
            "                                 (None, 128, 768),                                                \n",
            "                                 (None, 128, 768),                                                \n",
            "                                 (None, 128, 768),                                                \n",
            "                                 (None, 128, 768),                                                \n",
            "                                 (None, 128, 768),                                                \n",
            "                                 (None, 128, 768),                                                \n",
            "                                 (None, 128, 768),                                                \n",
            "                                 (None, 128, 768),                                                \n",
            "                                 (None, 128, 768),                                                \n",
            "                                 (None, 128, 768)],                                               \n",
            "                                 'default': (None,                                                \n",
            "                                768),                                                             \n",
            "                                 'sequence_output':                                               \n",
            "                                 (None, 128, 768),                                                \n",
            "                                 'pooled_output': (                                               \n",
            "                                None, 768)}                                                       \n",
            "                                                                                                  \n",
            " dropout (Dropout)              (None, 768)          0           ['keras_layer_1[0][13]']         \n",
            "                                                                                                  \n",
            " dense1 (Dense)                 (None, 512)          393728      ['dropout[0][0]']                \n",
            "                                                                                                  \n",
            " dense2 (Dense)                 (None, 256)          131328      ['dense1[0][0]']                 \n",
            "                                                                                                  \n",
            " dense3 (Dense)                 (None, 128)          32896       ['dense2[0][0]']                 \n",
            "                                                                                                  \n",
            " dense4 (Dense)                 (None, 64)           8256        ['dense3[0][0]']                 \n",
            "                                                                                                  \n",
            " output (Dense)                 (None, 1)            65          ['dense4[0][0]']                 \n",
            "                                                                                                  \n",
            "==================================================================================================\n",
            "Total params: 110,048,514\n",
            "Trainable params: 566,273\n",
            "Non-trainable params: 109,482,241\n",
            "__________________________________________________________________________________________________\n"
          ]
        }
      ]
    },
    {
      "cell_type": "code",
      "source": [
        "from keras import backend as K"
      ],
      "metadata": {
        "id": "Hbl7iTkdmw6v"
      },
      "execution_count": null,
      "outputs": []
    },
    {
      "cell_type": "code",
      "source": [
        "def recall_m(y_true, y_pred):\n",
        "    true_positives = K.sum(K.round(K.clip(y_true * y_pred, 0, 1)))\n",
        "    possible_positives = K.sum(K.round(K.clip(y_true, 0, 1)))\n",
        "    recall = true_positives / (possible_positives + K.epsilon())\n",
        "    return recall\n",
        "\n",
        "def precision_m(y_true, y_pred):\n",
        "    true_positives = K.sum(K.round(K.clip(y_true * y_pred, 0, 1)))\n",
        "    predicted_positives = K.sum(K.round(K.clip(y_pred, 0, 1)))\n",
        "    precision = true_positives / (predicted_positives + K.epsilon())\n",
        "    return precision\n",
        "\n",
        "def f1_m(y_true, y_pred):\n",
        "    precision = precision_m(y_true, y_pred)\n",
        "    recall = recall_m(y_true, y_pred)\n",
        "    return 2*((precision*recall)/(precision+recall+K.epsilon()))\n",
        "\n",
        "def specificity(y_true, y_pred):\n",
        "    \"\"\"\n",
        "    param:\n",
        "    y_pred - Predicted labels\n",
        "    y_true - True labels\n",
        "    Returns:\n",
        "    Specificity score\n",
        "    \"\"\"\n",
        "    neg_y_true = 1 - y_true\n",
        "    neg_y_pred = 1 - y_pred\n",
        "    fp = K.sum(neg_y_true * y_pred)\n",
        "    tn = K.sum(neg_y_true * neg_y_pred)\n",
        "    specificity = tn / (tn + fp + K.epsilon())\n",
        "    return specificity\n",
        "\n"
      ],
      "metadata": {
        "id": "LvIUIy0zmyWz"
      },
      "execution_count": null,
      "outputs": []
    },
    {
      "cell_type": "code",
      "source": [
        "METRICS = [\n",
        "      tf.keras.metrics.BinaryAccuracy(name='accuracy'),\n",
        "      tf.keras.metrics.Precision(name='precision'),\n",
        "      tf.keras.metrics.Recall(name='recall'),\n",
        "      specificity,\n",
        "      f1_m\n",
        "]\n",
        "\n",
        "opt = keras.optimizers.Adam(learning_rate=0.001)\n",
        "\n",
        "model1.compile(optimizer=opt,\n",
        "              loss='binary_crossentropy',\n",
        "              metrics=METRICS)"
      ],
      "metadata": {
        "id": "GRdZO9vVV21c"
      },
      "execution_count": null,
      "outputs": []
    },
    {
      "cell_type": "code",
      "source": [
        "history = model1.fit(df_train['review'], df_train['sentiment'], epochs=30, validation_data=(df_val['review'], df_val['sentiment']))"
      ],
      "metadata": {
        "colab": {
          "base_uri": "https://localhost:8080/"
        },
        "id": "vvdBsOQOV4IV",
        "outputId": "5f6f8921-7bb8-4017-9340-4cdcb25e9baf"
      },
      "execution_count": null,
      "outputs": [
        {
          "output_type": "stream",
          "name": "stdout",
          "text": [
            "Epoch 1/30\n",
            "1094/1094 [==============================] - 455s 404ms/step - loss: 0.6114 - accuracy: 0.6808 - precision: 0.6820 - recall: 0.6764 - specificity: 0.5992 - f1_m: 0.6564 - val_loss: 0.5799 - val_accuracy: 0.6892 - val_precision: 0.8574 - val_recall: 0.4601 - val_specificity: 0.6903 - val_f1_m: 0.5879\n",
            "Epoch 2/30\n",
            "1094/1094 [==============================] - 442s 404ms/step - loss: 0.5528 - accuracy: 0.7209 - precision: 0.7249 - recall: 0.7112 - specificity: 0.6329 - f1_m: 0.7057 - val_loss: 0.5294 - val_accuracy: 0.7346 - val_precision: 0.6912 - val_recall: 0.8560 - val_specificity: 0.5553 - val_f1_m: 0.7603\n",
            "Epoch 3/30\n",
            "1094/1094 [==============================] - 441s 403ms/step - loss: 0.5459 - accuracy: 0.7265 - precision: 0.7314 - recall: 0.7153 - specificity: 0.6391 - f1_m: 0.7106 - val_loss: 0.5179 - val_accuracy: 0.7488 - val_precision: 0.7382 - val_recall: 0.7775 - val_specificity: 0.6102 - val_f1_m: 0.7509\n",
            "Epoch 4/30\n",
            "1094/1094 [==============================] - 444s 406ms/step - loss: 0.5384 - accuracy: 0.7305 - precision: 0.7348 - recall: 0.7204 - specificity: 0.6420 - f1_m: 0.7169 - val_loss: 0.5183 - val_accuracy: 0.7440 - val_precision: 0.7145 - val_recall: 0.8199 - val_specificity: 0.5791 - val_f1_m: 0.7576\n",
            "Epoch 5/30\n",
            "1094/1094 [==============================] - 439s 401ms/step - loss: 0.5358 - accuracy: 0.7321 - precision: 0.7356 - recall: 0.7238 - specificity: 0.6417 - f1_m: 0.7202 - val_loss: 0.5042 - val_accuracy: 0.7496 - val_precision: 0.7627 - val_recall: 0.7307 - val_specificity: 0.6705 - val_f1_m: 0.7388\n",
            "Epoch 6/30\n",
            "1094/1094 [==============================] - 440s 402ms/step - loss: 0.5358 - accuracy: 0.7301 - precision: 0.7345 - recall: 0.7198 - specificity: 0.6434 - f1_m: 0.7172 - val_loss: 0.5127 - val_accuracy: 0.7432 - val_precision: 0.7319 - val_recall: 0.7743 - val_specificity: 0.6311 - val_f1_m: 0.7463\n",
            "Epoch 7/30\n",
            "1094/1094 [==============================] - 440s 402ms/step - loss: 0.5357 - accuracy: 0.7317 - precision: 0.7360 - recall: 0.7217 - specificity: 0.6431 - f1_m: 0.7196 - val_loss: 0.5030 - val_accuracy: 0.7520 - val_precision: 0.7387 - val_recall: 0.7862 - val_specificity: 0.6264 - val_f1_m: 0.7554\n",
            "Epoch 8/30\n",
            "1094/1094 [==============================] - 438s 401ms/step - loss: 0.5311 - accuracy: 0.7341 - precision: 0.7378 - recall: 0.7257 - specificity: 0.6466 - f1_m: 0.7231 - val_loss: 0.5100 - val_accuracy: 0.7500 - val_precision: 0.7206 - val_recall: 0.8235 - val_specificity: 0.5909 - val_f1_m: 0.7633\n",
            "Epoch 9/30\n",
            "1094/1094 [==============================] - 438s 401ms/step - loss: 0.5293 - accuracy: 0.7375 - precision: 0.7426 - recall: 0.7262 - specificity: 0.6484 - f1_m: 0.7249 - val_loss: 0.5139 - val_accuracy: 0.7520 - val_precision: 0.7934 - val_recall: 0.6870 - val_specificity: 0.6690 - val_f1_m: 0.7303\n",
            "Epoch 10/30\n",
            "1094/1094 [==============================] - 441s 403ms/step - loss: 0.5300 - accuracy: 0.7383 - precision: 0.7428 - recall: 0.7283 - specificity: 0.6471 - f1_m: 0.7266 - val_loss: 0.5067 - val_accuracy: 0.7498 - val_precision: 0.7800 - val_recall: 0.7017 - val_specificity: 0.6658 - val_f1_m: 0.7316\n",
            "Epoch 11/30\n",
            "1094/1094 [==============================] - 441s 403ms/step - loss: 0.5253 - accuracy: 0.7411 - precision: 0.7452 - recall: 0.7320 - specificity: 0.6494 - f1_m: 0.7309 - val_loss: 0.5260 - val_accuracy: 0.7308 - val_precision: 0.8359 - val_recall: 0.5799 - val_specificity: 0.7602 - val_f1_m: 0.6774\n",
            "Epoch 12/30\n",
            "1094/1094 [==============================] - 441s 403ms/step - loss: 0.5256 - accuracy: 0.7400 - precision: 0.7450 - recall: 0.7290 - specificity: 0.6509 - f1_m: 0.7271 - val_loss: 0.5140 - val_accuracy: 0.7476 - val_precision: 0.7129 - val_recall: 0.8362 - val_specificity: 0.5780 - val_f1_m: 0.7641\n",
            "Epoch 13/30\n",
            "1094/1094 [==============================] - 440s 402ms/step - loss: 0.5255 - accuracy: 0.7383 - precision: 0.7415 - recall: 0.7308 - specificity: 0.6499 - f1_m: 0.7275 - val_loss: 0.4972 - val_accuracy: 0.7568 - val_precision: 0.7454 - val_recall: 0.7862 - val_specificity: 0.6321 - val_f1_m: 0.7588\n",
            "Epoch 14/30\n",
            "1094/1094 [==============================] - 439s 401ms/step - loss: 0.5251 - accuracy: 0.7399 - precision: 0.7445 - recall: 0.7297 - specificity: 0.6515 - f1_m: 0.7293 - val_loss: 0.5259 - val_accuracy: 0.7360 - val_precision: 0.6856 - val_recall: 0.8798 - val_specificity: 0.5446 - val_f1_m: 0.7660\n",
            "Epoch 15/30\n",
            "1094/1094 [==============================] - 438s 401ms/step - loss: 0.5231 - accuracy: 0.7393 - precision: 0.7429 - recall: 0.7312 - specificity: 0.6534 - f1_m: 0.7287 - val_loss: 0.4949 - val_accuracy: 0.7572 - val_precision: 0.7473 - val_recall: 0.7834 - val_specificity: 0.6365 - val_f1_m: 0.7581\n",
            "Epoch 16/30\n",
            "1094/1094 [==============================] - 438s 401ms/step - loss: 0.5235 - accuracy: 0.7413 - precision: 0.7464 - recall: 0.7302 - specificity: 0.6516 - f1_m: 0.7307 - val_loss: 0.5032 - val_accuracy: 0.7532 - val_precision: 0.7374 - val_recall: 0.7929 - val_specificity: 0.6182 - val_f1_m: 0.7574\n",
            "Epoch 17/30\n",
            "1094/1094 [==============================] - 438s 401ms/step - loss: 0.5225 - accuracy: 0.7415 - precision: 0.7460 - recall: 0.7316 - specificity: 0.6524 - f1_m: 0.7300 - val_loss: 0.5034 - val_accuracy: 0.7560 - val_precision: 0.7550 - val_recall: 0.7640 - val_specificity: 0.6338 - val_f1_m: 0.7523\n",
            "Epoch 18/30\n",
            "1094/1094 [==============================] - 438s 401ms/step - loss: 0.5258 - accuracy: 0.7377 - precision: 0.7421 - recall: 0.7277 - specificity: 0.6504 - f1_m: 0.7258 - val_loss: 0.5022 - val_accuracy: 0.7476 - val_precision: 0.7962 - val_recall: 0.6712 - val_specificity: 0.7029 - val_f1_m: 0.7212\n",
            "Epoch 19/30\n",
            "1094/1094 [==============================] - 439s 402ms/step - loss: 0.5228 - accuracy: 0.7408 - precision: 0.7447 - recall: 0.7321 - specificity: 0.6514 - f1_m: 0.7299 - val_loss: 0.5226 - val_accuracy: 0.7360 - val_precision: 0.8357 - val_recall: 0.5930 - val_specificity: 0.7535 - val_f1_m: 0.6861\n",
            "Epoch 20/30\n",
            "1094/1094 [==============================] - 439s 401ms/step - loss: 0.5192 - accuracy: 0.7435 - precision: 0.7490 - recall: 0.7318 - specificity: 0.6548 - f1_m: 0.7335 - val_loss: 0.4951 - val_accuracy: 0.7572 - val_precision: 0.7847 - val_recall: 0.7144 - val_specificity: 0.6982 - val_f1_m: 0.7409\n",
            "Epoch 21/30\n",
            "1094/1094 [==============================] - 439s 401ms/step - loss: 0.5223 - accuracy: 0.7414 - precision: 0.7441 - recall: 0.7353 - specificity: 0.6522 - f1_m: 0.7313 - val_loss: 0.4949 - val_accuracy: 0.7564 - val_precision: 0.7484 - val_recall: 0.7787 - val_specificity: 0.6480 - val_f1_m: 0.7566\n",
            "Epoch 22/30\n",
            "1094/1094 [==============================] - 440s 402ms/step - loss: 0.5208 - accuracy: 0.7410 - precision: 0.7457 - recall: 0.7308 - specificity: 0.6532 - f1_m: 0.7299 - val_loss: 0.4894 - val_accuracy: 0.7580 - val_precision: 0.7611 - val_recall: 0.7580 - val_specificity: 0.6727 - val_f1_m: 0.7533\n",
            "Epoch 23/30\n",
            "1094/1094 [==============================] - 439s 401ms/step - loss: 0.5232 - accuracy: 0.7407 - precision: 0.7460 - recall: 0.7293 - specificity: 0.6530 - f1_m: 0.7298 - val_loss: 0.5111 - val_accuracy: 0.7484 - val_precision: 0.7911 - val_recall: 0.6807 - val_specificity: 0.6722 - val_f1_m: 0.7247\n",
            "Epoch 24/30\n",
            "1094/1094 [==============================] - 407s 372ms/step - loss: 0.5195 - accuracy: 0.7456 - precision: 0.7503 - recall: 0.7353 - specificity: 0.6551 - f1_m: 0.7348 - val_loss: 0.5035 - val_accuracy: 0.7510 - val_precision: 0.7836 - val_recall: 0.6993 - val_specificity: 0.6794 - val_f1_m: 0.7317\n",
            "Epoch 25/30\n",
            "1094/1094 [==============================] - 439s 401ms/step - loss: 0.5185 - accuracy: 0.7456 - precision: 0.7497 - recall: 0.7367 - specificity: 0.6546 - f1_m: 0.7344 - val_loss: 0.5084 - val_accuracy: 0.7474 - val_precision: 0.7101 - val_recall: 0.8433 - val_specificity: 0.5810 - val_f1_m: 0.7661\n",
            "Epoch 26/30\n",
            "1094/1094 [==============================] - 439s 401ms/step - loss: 0.5208 - accuracy: 0.7436 - precision: 0.7474 - recall: 0.7352 - specificity: 0.6538 - f1_m: 0.7338 - val_loss: 0.5002 - val_accuracy: 0.7594 - val_precision: 0.7574 - val_recall: 0.7691 - val_specificity: 0.6348 - val_f1_m: 0.7560\n",
            "Epoch 27/30\n",
            "1094/1094 [==============================] - 439s 402ms/step - loss: 0.5215 - accuracy: 0.7436 - precision: 0.7467 - recall: 0.7365 - specificity: 0.6526 - f1_m: 0.7341 - val_loss: 0.4932 - val_accuracy: 0.7560 - val_precision: 0.7758 - val_recall: 0.7259 - val_specificity: 0.6787 - val_f1_m: 0.7430\n",
            "Epoch 28/30\n",
            "1094/1094 [==============================] - 439s 402ms/step - loss: 0.5172 - accuracy: 0.7466 - precision: 0.7501 - recall: 0.7389 - specificity: 0.6560 - f1_m: 0.7381 - val_loss: 0.5189 - val_accuracy: 0.7410 - val_precision: 0.8296 - val_recall: 0.6121 - val_specificity: 0.7619 - val_f1_m: 0.6973\n",
            "Epoch 29/30\n",
            "1094/1094 [==============================] - 439s 401ms/step - loss: 0.5212 - accuracy: 0.7450 - precision: 0.7499 - recall: 0.7344 - specificity: 0.6534 - f1_m: 0.7339 - val_loss: 0.5113 - val_accuracy: 0.7490 - val_precision: 0.8109 - val_recall: 0.6549 - val_specificity: 0.6949 - val_f1_m: 0.7170\n",
            "Epoch 30/30\n",
            "1094/1094 [==============================] - 407s 372ms/step - loss: 0.5193 - accuracy: 0.7442 - precision: 0.7491 - recall: 0.7336 - specificity: 0.6548 - f1_m: 0.7331 - val_loss: 0.5027 - val_accuracy: 0.7586 - val_precision: 0.7432 - val_recall: 0.7965 - val_specificity: 0.6155 - val_f1_m: 0.7628\n"
          ]
        }
      ]
    },
    {
      "cell_type": "code",
      "source": [
        "model1.save('/content/drive/MyDrive/deep_L  /ass2/Models/history2')"
      ],
      "metadata": {
        "id": "KMLd65aPpk2w",
        "colab": {
          "base_uri": "https://localhost:8080/"
        },
        "outputId": "b48e0269-3bea-4160-94a1-b498681f3840"
      },
      "execution_count": null,
      "outputs": [
        {
          "output_type": "stream",
          "name": "stderr",
          "text": [
            "WARNING:absl:Found untraced functions such as restored_function_body, restored_function_body, restored_function_body, restored_function_body, restored_function_body while saving (showing 5 of 366). These functions will not be directly callable after loading.\n"
          ]
        }
      ]
    },
    {
      "cell_type": "code",
      "source": [
        "import pickle"
      ],
      "metadata": {
        "id": "zr4AKP3FmQhx"
      },
      "execution_count": null,
      "outputs": []
    },
    {
      "cell_type": "code",
      "source": [
        "pickle_out = open(\"/content/drive/MyDrive/deep_L  /ass2/History/history2.pickle\",\"wb\")\n",
        "pickle.dump(history,pickle_out)\n",
        "pickle_out.close()"
      ],
      "metadata": {
        "id": "Z1HPStHmi_Os",
        "colab": {
          "base_uri": "https://localhost:8080/"
        },
        "outputId": "d1af1f3b-d264-493e-fdd8-910aabd923c7"
      },
      "execution_count": null,
      "outputs": [
        {
          "output_type": "stream",
          "name": "stdout",
          "text": [
            "Keras weights file (<HDF5 file \"variables.h5\" (mode r+)>) saving:\n",
            "...layers\n",
            "......dense\n",
            ".........vars\n",
            "............0\n",
            "............1\n",
            "......dense_1\n",
            ".........vars\n",
            "............0\n",
            "............1\n",
            "......dense_2\n",
            ".........vars\n",
            "............0\n",
            "............1\n",
            "......dense_3\n",
            ".........vars\n",
            "............0\n",
            "............1\n",
            "......dense_4\n",
            ".........vars\n",
            "............0\n",
            "............1\n",
            "......dropout\n",
            ".........vars\n",
            "......input_layer\n",
            ".........vars\n",
            "......keras_layer\n",
            ".........vars\n",
            "......keras_layer_1\n",
            ".........vars\n",
            "............0\n",
            "............1\n",
            "............10\n",
            "............100\n",
            "............101\n",
            "............102\n",
            "............103\n",
            "............104\n",
            "............105\n",
            "............106\n",
            "............107\n",
            "............108\n",
            "............109\n",
            "............11\n",
            "............110\n",
            "............111\n",
            "............112\n",
            "............113\n",
            "............114\n",
            "............115\n",
            "............116\n",
            "............117\n",
            "............118\n",
            "............119\n",
            "............12\n",
            "............120\n",
            "............121\n",
            "............122\n",
            "............123\n",
            "............124\n",
            "............125\n",
            "............126\n",
            "............127\n",
            "............128\n",
            "............129\n",
            "............13\n",
            "............130\n",
            "............131\n",
            "............132\n",
            "............133\n",
            "............134\n",
            "............135\n",
            "............136\n",
            "............137\n",
            "............138\n",
            "............139\n",
            "............14\n",
            "............140\n",
            "............141\n",
            "............142\n",
            "............143\n",
            "............144\n",
            "............145\n",
            "............146\n",
            "............147\n",
            "............148\n",
            "............149\n",
            "............15\n",
            "............150\n",
            "............151\n",
            "............152\n",
            "............153\n",
            "............154\n",
            "............155\n",
            "............156\n",
            "............157\n",
            "............158\n",
            "............159\n",
            "............16\n",
            "............160\n",
            "............161\n",
            "............162\n",
            "............163\n",
            "............164\n",
            "............165\n",
            "............166\n",
            "............167\n",
            "............168\n",
            "............169\n",
            "............17\n",
            "............170\n",
            "............171\n",
            "............172\n",
            "............173\n",
            "............174\n",
            "............175\n",
            "............176\n",
            "............177\n",
            "............178\n",
            "............179\n",
            "............18\n",
            "............180\n",
            "............181\n",
            "............182\n",
            "............183\n",
            "............184\n",
            "............185\n",
            "............186\n",
            "............187\n",
            "............188\n",
            "............189\n",
            "............19\n",
            "............190\n",
            "............191\n",
            "............192\n",
            "............193\n",
            "............194\n",
            "............195\n",
            "............196\n",
            "............197\n",
            "............198\n",
            "............199\n",
            "............2\n",
            "............20\n",
            "............21\n",
            "............22\n",
            "............23\n",
            "............24\n",
            "............25\n",
            "............26\n",
            "............27\n",
            "............28\n",
            "............29\n",
            "............3\n",
            "............30\n",
            "............31\n",
            "............32\n",
            "............33\n",
            "............34\n",
            "............35\n",
            "............36\n",
            "............37\n",
            "............38\n",
            "............39\n",
            "............4\n",
            "............40\n",
            "............41\n",
            "............42\n",
            "............43\n",
            "............44\n",
            "............45\n",
            "............46\n",
            "............47\n",
            "............48\n",
            "............49\n",
            "............5\n",
            "............50\n",
            "............51\n",
            "............52\n",
            "............53\n",
            "............54\n",
            "............55\n",
            "............56\n",
            "............57\n",
            "............58\n",
            "............59\n",
            "............6\n",
            "............60\n",
            "............61\n",
            "............62\n",
            "............63\n",
            "............64\n",
            "............65\n",
            "............66\n",
            "............67\n",
            "............68\n",
            "............69\n",
            "............7\n",
            "............70\n",
            "............71\n",
            "............72\n",
            "............73\n",
            "............74\n",
            "............75\n",
            "............76\n",
            "............77\n",
            "............78\n",
            "............79\n",
            "............8\n",
            "............80\n",
            "............81\n",
            "............82\n",
            "............83\n",
            "............84\n",
            "............85\n",
            "............86\n",
            "............87\n",
            "............88\n",
            "............89\n",
            "............9\n",
            "............90\n",
            "............91\n",
            "............92\n",
            "............93\n",
            "............94\n",
            "............95\n",
            "............96\n",
            "............97\n",
            "............98\n",
            "............99\n",
            "...metrics\n",
            "......binary_accuracy\n",
            ".........vars\n",
            "............0\n",
            "............1\n",
            "......mean\n",
            ".........vars\n",
            "............0\n",
            "............1\n",
            "......mean_metric_wrapper\n",
            ".........vars\n",
            "............0\n",
            "............1\n",
            "......mean_metric_wrapper_1\n",
            ".........vars\n",
            "............0\n",
            "............1\n",
            "......precision\n",
            ".........vars\n",
            "............0\n",
            "............1\n",
            "......recall\n",
            ".........vars\n",
            "............0\n",
            "............1\n",
            "...optimizer\n",
            "......vars\n",
            ".........0\n",
            ".........1\n",
            ".........10\n",
            ".........11\n",
            ".........12\n",
            ".........13\n",
            ".........14\n",
            ".........15\n",
            ".........16\n",
            ".........17\n",
            ".........18\n",
            ".........19\n",
            ".........2\n",
            ".........20\n",
            ".........3\n",
            ".........4\n",
            ".........5\n",
            ".........6\n",
            ".........7\n",
            ".........8\n",
            ".........9\n",
            "...vars\n",
            "Keras model archive saving:\n",
            "File Name                                             Modified             Size\n",
            "config.json                                    2022-12-19 20:38:30         4597\n",
            "metadata.json                                  2022-12-19 20:38:30           64\n",
            "variables.h5                                   2022-12-19 20:38:32    444851600\n"
          ]
        }
      ]
    },
    {
      "cell_type": "markdown",
      "source": [
        "#Properties"
      ],
      "metadata": {
        "id": "ej2XEO6pXyHP"
      }
    },
    {
      "cell_type": "code",
      "source": [
        "print(\"The Macro-F1 score: \", history.history['accuracy'])\n",
        "print(\"The Macro-F1 score: \", history.history['precision'])\n",
        "print(\"The Macro-F1 score: \", history.history['recall'])\n",
        "print(\"The Macro-F1 score: \", history.history['specificity'])\n",
        "print(\"The Macro-F1 score: \", history.history['f1_m'])"
      ],
      "metadata": {
        "id": "-JODvvsUXdo7",
        "colab": {
          "base_uri": "https://localhost:8080/"
        },
        "outputId": "a8976ed2-efdb-4929-8008-ff757c6737ae"
      },
      "execution_count": null,
      "outputs": [
        {
          "output_type": "stream",
          "name": "stdout",
          "text": [
            "The Macro-F1 score:  [0.6808285713195801, 0.7209428548812866, 0.7265428304672241, 0.7304571270942688, 0.732114315032959, 0.7300571203231812, 0.7316571474075317, 0.7341428399085999, 0.7375428676605225, 0.7383142709732056, 0.7411142587661743, 0.7400000095367432, 0.7382857203483582, 0.7399142980575562, 0.7393142580986023, 0.7412857413291931, 0.7414857149124146, 0.7376571297645569, 0.7408000230789185, 0.7435428500175476, 0.741428554058075, 0.7409999966621399, 0.7407428622245789, 0.7455714344978333, 0.7456285953521729, 0.7436285614967346, 0.7436000108718872, 0.7465999722480774, 0.7449714541435242, 0.7441999912261963]\n",
            "The Macro-F1 score:  [0.6820279359817505, 0.7249300479888916, 0.7313721179962158, 0.7348153591156006, 0.7356275320053101, 0.7344616055488586, 0.735985517501831, 0.7377878427505493, 0.7426449060440063, 0.742795467376709, 0.7451962232589722, 0.7450166344642639, 0.7415124177932739, 0.7445430159568787, 0.742867112159729, 0.7463751435279846, 0.7459900975227356, 0.7420822381973267, 0.7446622848510742, 0.7490193843841553, 0.7440527677536011, 0.74565190076828, 0.7459778785705566, 0.7503209710121155, 0.7497089505195618, 0.7474125027656555, 0.7467377781867981, 0.7500580549240112, 0.7498685717582703, 0.7490947246551514]\n",
            "The Macro-F1 score:  [0.6763713359832764, 0.7112051844596863, 0.7152662873268127, 0.7203569412231445, 0.7238460183143616, 0.7198421359062195, 0.7216724753379822, 0.7256763577461243, 0.7262483835220337, 0.7283074855804443, 0.7320253849029541, 0.7289938926696777, 0.7308242321014404, 0.7296802401542664, 0.7312245965003967, 0.7301950454711914, 0.7315678000450134, 0.7277355194091797, 0.7321397662162781, 0.7317966222763062, 0.7352856993675232, 0.730767011642456, 0.7293370962142944, 0.7353429198265076, 0.7367156744003296, 0.7352284789085388, 0.7364868521690369, 0.7389463782310486, 0.7344277501106262, 0.7336269617080688]\n",
            "The Macro-F1 score:  [0.5991767644882202, 0.6329118013381958, 0.6391143798828125, 0.6420425772666931, 0.6417220830917358, 0.6434102058410645, 0.6431488394737244, 0.6466289758682251, 0.6484343409538269, 0.6470502018928528, 0.6494491696357727, 0.6509215831756592, 0.6498972773551941, 0.6514691114425659, 0.6533843874931335, 0.6516021490097046, 0.6523597240447998, 0.6503685116767883, 0.6514232158660889, 0.6547864079475403, 0.6522353291511536, 0.6531562209129333, 0.6529731750488281, 0.6551125645637512, 0.6545904278755188, 0.65376877784729, 0.6525834798812866, 0.6560344696044922, 0.6533785462379456, 0.6548322439193726]\n",
            "The Macro-F1 score:  [0.6564059853553772, 0.7056817412376404, 0.7106084227561951, 0.7168613076210022, 0.7202098965644836, 0.7171923518180847, 0.7196224927902222, 0.7231398820877075, 0.7248584032058716, 0.7265724539756775, 0.7308820486068726, 0.7271340489387512, 0.7275419235229492, 0.7293269634246826, 0.7286825180053711, 0.730717658996582, 0.7300271987915039, 0.725787878036499, 0.7298697233200073, 0.7334858775138855, 0.7312722206115723, 0.7299147248268127, 0.7297837734222412, 0.7347545027732849, 0.7343627214431763, 0.7338259220123291, 0.7341484427452087, 0.7380692958831787, 0.7338876724243164, 0.7330601215362549]\n"
          ]
        }
      ]
    },
    {
      "cell_type": "code",
      "source": [
        "import matplotlib.pyplot as plt"
      ],
      "metadata": {
        "id": "yNaPS6PgWikY"
      },
      "execution_count": null,
      "outputs": []
    },
    {
      "cell_type": "code",
      "source": [
        "acc = history.history['accuracy']\n",
        "val_acc = history.history['val_accuracy']\n",
        "\n",
        "loss = history.history['loss']\n",
        "val_loss = history.history['val_loss']\n",
        "f1_m = history.history['f1_m']\n",
        "\n",
        "plt.figure(figsize=(16, 16))\n",
        "plt.subplot(3, 1, 1)\n",
        "plt.plot(acc, label='Training Accuracy')\n",
        "plt.plot(val_acc, label='Validation Accuracy')\n",
        "plt.legend(loc='lower right')\n",
        "plt.ylabel('Accuracy')\n",
        "plt.ylim([min(plt.ylim()),1])\n",
        "plt.title('Training and Validation Accuracy')\n",
        "\n",
        "plt.subplot(3, 1, 2)\n",
        "plt.plot(loss, label='Training Loss')\n",
        "plt.plot(val_loss, label='Validation Loss')\n",
        "plt.legend(loc='upper right')\n",
        "plt.ylabel('Cross Entropy')\n",
        "plt.ylim([0,4.0])\n",
        "plt.title('Training and Validation Loss')\n",
        "plt.xlabel('epoch')\n",
        "\n",
        "plt.subplot(3, 1, 3)\n",
        "plt.plot(f1_m, label='MACRO F1 Score')\n",
        "plt.legend(loc='upper right')\n",
        "plt.ylabel('Cross Entropy')\n",
        "plt.ylim([min(plt.ylim()),1])\n",
        "plt.title('F1 SCORE')\n",
        "plt.xlabel('epoch')\n",
        "plt.show()"
      ],
      "metadata": {
        "id": "viT1cvpWWZ6T",
        "colab": {
          "base_uri": "https://localhost:8080/",
          "height": 948
        },
        "outputId": "3ebf317d-4135-48dd-93ce-aa89a1f499d4"
      },
      "execution_count": null,
      "outputs": [
        {
          "output_type": "display_data",
          "data": {
            "text/plain": [
              "<Figure size 1152x1152 with 3 Axes>"
            ],
            "image/png": "[encoded data removed]"
          },
          "metadata": {
            "needs_background": "light"
          }
        }
      ]
    },
    {
      "cell_type": "markdown",
      "source": [
        "# Evaluation & Conf matrix"
      ],
      "metadata": {
        "id": "Tc0w0046ZU9R"
      }
    },
    {
      "cell_type": "code",
      "source": [
        "# Evaluate the model on the test data using `evaluate`\n",
        "test_set = (df_test['review'],df_test['sentiment'])\n",
        "print(\"Evaluate on test data\")\n",
        "results = model1.evaluate(df_test['review'],df_test['sentiment'])\n",
        "print(\"test loss, test accuracy, test precision, test recall, test specificity, test f1 score:\", results)"
      ],
      "metadata": {
        "id": "RUPjSu-oZZAG",
        "colab": {
          "base_uri": "https://localhost:8080/"
        },
        "outputId": "42d19424-d6fe-4620-a499-33c37479e975"
      },
      "execution_count": null,
      "outputs": [
        {
          "output_type": "stream",
          "name": "stdout",
          "text": [
            "Evaluate on test data\n",
            "313/313 [==============================] - 103s 329ms/step - loss: 0.5035 - accuracy: 0.7592 - precision: 0.7375 - recall: 0.8042 - specificity: 0.6122 - f1_m: 0.7641\n",
            "test loss, test accuracy, test precision, test recall, test specificity, test f1 score: [0.503455638885498, 0.7591999769210815, 0.7375183701515198, 0.8042433857917786, 0.6121968626976013, 0.7641121745109558]\n"
          ]
        }
      ]
    },
    {
      "cell_type": "code",
      "source": [
        "predicts = model1.predict(df_test['review'])"
      ],
      "metadata": {
        "id": "RFyW8vINcp4D",
        "colab": {
          "base_uri": "https://localhost:8080/"
        },
        "outputId": "a5a58308-1131-4e44-a595-da7c666c66da"
      },
      "execution_count": null,
      "outputs": [
        {
          "output_type": "stream",
          "name": "stdout",
          "text": [
            "313/313 [==============================] - 102s 326ms/step\n"
          ]
        }
      ]
    },
    {
      "cell_type": "code",
      "source": [
        "predicts"
      ],
      "metadata": {
        "id": "AT7M8wMddM_7",
        "colab": {
          "base_uri": "https://localhost:8080/"
        },
        "outputId": "4759dbee-821d-4bae-8099-f8b66ea804ed"
      },
      "execution_count": null,
      "outputs": [
        {
          "output_type": "execute_result",
          "data": {
            "text/plain": [
              "array([[0.37424907],\n",
              "       [0.73617643],\n",
              "       [0.43966576],\n",
              "       ...,\n",
              "       [0.07597369],\n",
              "       [0.81458014],\n",
              "       [0.49549598]], dtype=float32)"
            ]
          },
          "metadata": {},
          "execution_count": 44
        }
      ]
    },
    {
      "cell_type": "code",
      "source": [
        "y_predicted = np.where(predicts > 0.5, 1, 0)\n",
        "print(y_predicted)"
      ],
      "metadata": {
        "id": "WPKGJOyZdeJL",
        "colab": {
          "base_uri": "https://localhost:8080/"
        },
        "outputId": "d3fce67c-3395-49e4-d9e7-e30d62c14b8e"
      },
      "execution_count": null,
      "outputs": [
        {
          "output_type": "stream",
          "name": "stdout",
          "text": [
            "[[0]\n",
            " [1]\n",
            " [0]\n",
            " ...\n",
            " [0]\n",
            " [1]\n",
            " [0]]\n"
          ]
        }
      ]
    },
    {
      "cell_type": "code",
      "source": [
        "from sklearn.metrics import confusion_matrix, classification_report\n",
        "import seaborn as sns"
      ],
      "metadata": {
        "id": "SB7nzlTpdnlC"
      },
      "execution_count": null,
      "outputs": []
    },
    {
      "cell_type": "code",
      "source": [
        "def plotConfMat(predicted_label):\n",
        "  cm = confusion_matrix(test_set[1], predicted_label)\n",
        "  fig = plt.figure(figsize = (10,10))\n",
        "  ax1 = fig.add_subplot(1,1,1)\n",
        "  sns.set(font_scale=1.4) #for label size\n",
        "  sns.heatmap(cm, annot=True, annot_kws={\"size\": 12},\n",
        "       cbar = False, fmt='d', cmap='Purples');\n",
        "  ax1.set_ylabel('True Values',fontsize=14)\n",
        "  ax1.set_xlabel('Predicted Values',fontsize=14)\n",
        "  plt.show()"
      ],
      "metadata": {
        "id": "0xvBcLRddikR"
      },
      "execution_count": null,
      "outputs": []
    },
    {
      "cell_type": "code",
      "source": [
        "plotConfMat(y_predicted)"
      ],
      "metadata": {
        "id": "hU21oLhrdo1p",
        "colab": {
          "base_uri": "https://localhost:8080/",
          "height": 617
        },
        "outputId": "36d78155-1910-4e2e-810b-d1500a88bdce"
      },
      "execution_count": null,
      "outputs": [
        {
          "output_type": "display_data",
          "data": {
            "text/plain": [
              "<Figure size 720x720 with 1 Axes>"
            ],
            "image/png": "[encoded data removed]"
          },
          "metadata": {}
        }
      ]
    },
    {
      "cell_type": "code",
      "source": [
        "print(classification_report(test_set[1], y_predicted))"
      ],
      "metadata": {
        "id": "mA4lWhNi0ty6",
        "colab": {
          "base_uri": "https://localhost:8080/"
        },
        "outputId": "023cd6ce-cca0-4ed4-d1e9-6de8b490673b"
      },
      "execution_count": null,
      "outputs": [
        {
          "output_type": "stream",
          "name": "stdout",
          "text": [
            "              precision    recall  f1-score   support\n",
            "\n",
            "           0       0.79      0.71      0.75      5004\n",
            "           1       0.74      0.80      0.77      4996\n",
            "\n",
            "    accuracy                           0.76     10000\n",
            "   macro avg       0.76      0.76      0.76     10000\n",
            "weighted avg       0.76      0.76      0.76     10000\n",
            "\n"
          ]
        }
      ]
    },
    {
      "cell_type": "markdown",
      "source": [
        "#example predection"
      ],
      "metadata": {
        "id": "TksA0pVx1bKJ"
      }
    },
    {
      "cell_type": "markdown",
      "source": [
        "0 --> 1 the range negative --> positive"
      ],
      "metadata": {
        "id": "B0lIDWmKyVgs"
      }
    },
    {
      "cell_type": "code",
      "source": [
        "rev = ['the movie was so good tonight','i didnt like the movie that much it was boring','the movie was one of the best movies i\\'ve ever seen']\n",
        "model1.predict(rev)"
      ],
      "metadata": {
        "id": "vhMeZDOB1anr",
        "colab": {
          "base_uri": "https://localhost:8080/"
        },
        "outputId": "b3f5aedc-fb8d-422c-ecd7-379bf3ae205d"
      },
      "execution_count": null,
      "outputs": [
        {
          "output_type": "stream",
          "name": "stdout",
          "text": [
            "1/1 [==============================] - 0s 44ms/step\n"
          ]
        },
        {
          "output_type": "execute_result",
          "data": {
            "text/plain": [
              "array([[0.9279139 ],\n",
              "       [0.08970135],\n",
              "       [0.6175002 ]], dtype=float32)"
            ]
          },
          "metadata": {},
          "execution_count": 56
        }
      ]
    }
  ]
}